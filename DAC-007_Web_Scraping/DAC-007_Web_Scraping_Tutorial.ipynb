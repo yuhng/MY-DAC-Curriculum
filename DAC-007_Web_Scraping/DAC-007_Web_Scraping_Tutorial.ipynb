{
 "cells": [
  {
   "cell_type": "markdown",
   "metadata": {
    "id": "ZgF659VOoiyU"
   },
   "source": [
    "## Web Scraping Tutorial\n",
    "For this assignment, using the techniques learnt in the previous session, scrape the following website: \"https://en.wikipedia.org/wiki/List_of_Asian_countries_by_area\"\n",
    "<br>For web scraping, use the following libraries\n",
    "1. BeautifulSoup\n",
    "2. requests \n",
    "3. pandas\n",
    "\n",
    "Objective: \n",
    "* Create a Dataframe containing all countries listed on the Wikipedia website\n",
    "\n",
    "Steps:\n",
    "1. Import the libraries\n",
    "* Pandas \n",
    "* Requests \n",
    "* BeautifulSoup \n",
    "2. Ping the website and return the HTML of the website\n",
    "3. Use the prettify function to view how the tags are nested in the document\n",
    "4. Find class 'sortable wikitable sticky-header col2left' in the HTML script\n",
    "5. Extract all the links within a tag using find_all().\n",
    "6. From the links found earlier, find extract the title by using the 'get' method to find the titles\n",
    "* Note: Create a list to append the countries in and name the list variable as 'countries'.\n",
    "7. Create the dataframe called df_countries\n",
    "8. Set the column ‘Country’ in df_countries to countries"
   ]
  },
  {
   "cell_type": "markdown",
   "metadata": {},
   "source": [
    "### 1. Import Libraries"
   ]
  },
  {
   "cell_type": "code",
   "execution_count": null,
   "metadata": {
    "vscode": {
     "languageId": "plaintext"
    }
   },
   "outputs": [],
   "source": []
  },
  {
   "cell_type": "markdown",
   "metadata": {
    "id": "TXjpFE63dWcp"
   },
   "source": [
    "### 2. Ping the website and return the HTML of the website"
   ]
  },
  {
   "cell_type": "code",
   "execution_count": null,
   "metadata": {
    "vscode": {
     "languageId": "plaintext"
    }
   },
   "outputs": [],
   "source": []
  }
 ],
 "metadata": {
  "colab": {
   "collapsed_sections": [
    "278Ax_gu2Qul",
    "d4wnSUKmp9H2",
    "TXjpFE63dWcp",
    "PU_yF8r4dwmk",
    "1myB9pO4eLwn",
    "Vxw6nc2geZSJ",
    "oWN2BlEChcd0",
    "Hq6EbKBzmzJY",
    "SgByofg-JWfE",
    "lG5h0_0lJ6j9"
   ],
   "provenance": []
  },
  "kernelspec": {
   "display_name": ".venv",
   "language": "python",
   "name": "python3"
  },
  "language_info": {
   "codemirror_mode": {
    "name": "ipython",
    "version": 3
   },
   "file_extension": ".py",
   "mimetype": "text/x-python",
   "name": "python",
   "nbconvert_exporter": "python",
   "pygments_lexer": "ipython3",
   "version": "3.13.0"
  }
 },
 "nbformat": 4,
 "nbformat_minor": 0
}
